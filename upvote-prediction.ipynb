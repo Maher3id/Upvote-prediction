{
 "cells": [
  {
   "cell_type": "markdown",
   "id": "249c57c9",
   "metadata": {
    "papermill": {
     "duration": 0.044325,
     "end_time": "2022-04-04T02:57:48.933106",
     "exception": false,
     "start_time": "2022-04-04T02:57:48.888781",
     "status": "completed"
    },
    "tags": []
   },
   "source": [
    "#### import libraries\n",
    "#### read the data"
   ]
  },
  {
   "cell_type": "code",
   "execution_count": 1,
   "id": "141d2945",
   "metadata": {
    "execution": {
     "iopub.execute_input": "2022-04-04T02:57:49.021499Z",
     "iopub.status.busy": "2022-04-04T02:57:49.020342Z",
     "iopub.status.idle": "2022-04-04T02:57:49.481559Z",
     "shell.execute_reply": "2022-04-04T02:57:49.482030Z",
     "shell.execute_reply.started": "2022-04-04T02:45:09.968469Z"
    },
    "papermill": {
     "duration": 0.506472,
     "end_time": "2022-04-04T02:57:49.482385",
     "exception": false,
     "start_time": "2022-04-04T02:57:48.975913",
     "status": "completed"
    },
    "tags": []
   },
   "outputs": [
    {
     "data": {
      "text/html": [
       "<div>\n",
       "<style scoped>\n",
       "    .dataframe tbody tr th:only-of-type {\n",
       "        vertical-align: middle;\n",
       "    }\n",
       "\n",
       "    .dataframe tbody tr th {\n",
       "        vertical-align: top;\n",
       "    }\n",
       "\n",
       "    .dataframe thead th {\n",
       "        text-align: right;\n",
       "    }\n",
       "</style>\n",
       "<table border=\"1\" class=\"dataframe\">\n",
       "  <thead>\n",
       "    <tr style=\"text-align: right;\">\n",
       "      <th></th>\n",
       "      <th>ID</th>\n",
       "      <th>Tag</th>\n",
       "      <th>Reputation</th>\n",
       "      <th>Answers</th>\n",
       "      <th>Username</th>\n",
       "      <th>Views</th>\n",
       "      <th>Upvotes</th>\n",
       "    </tr>\n",
       "  </thead>\n",
       "  <tbody>\n",
       "    <tr>\n",
       "      <th>0</th>\n",
       "      <td>52664</td>\n",
       "      <td>a</td>\n",
       "      <td>3942.0</td>\n",
       "      <td>2.0</td>\n",
       "      <td>155623</td>\n",
       "      <td>7855.0</td>\n",
       "      <td>42.0</td>\n",
       "    </tr>\n",
       "    <tr>\n",
       "      <th>1</th>\n",
       "      <td>327662</td>\n",
       "      <td>a</td>\n",
       "      <td>26046.0</td>\n",
       "      <td>12.0</td>\n",
       "      <td>21781</td>\n",
       "      <td>55801.0</td>\n",
       "      <td>1175.0</td>\n",
       "    </tr>\n",
       "    <tr>\n",
       "      <th>2</th>\n",
       "      <td>468453</td>\n",
       "      <td>c</td>\n",
       "      <td>1358.0</td>\n",
       "      <td>4.0</td>\n",
       "      <td>56177</td>\n",
       "      <td>8067.0</td>\n",
       "      <td>60.0</td>\n",
       "    </tr>\n",
       "    <tr>\n",
       "      <th>3</th>\n",
       "      <td>96996</td>\n",
       "      <td>a</td>\n",
       "      <td>264.0</td>\n",
       "      <td>3.0</td>\n",
       "      <td>168793</td>\n",
       "      <td>27064.0</td>\n",
       "      <td>9.0</td>\n",
       "    </tr>\n",
       "    <tr>\n",
       "      <th>4</th>\n",
       "      <td>131465</td>\n",
       "      <td>c</td>\n",
       "      <td>4271.0</td>\n",
       "      <td>4.0</td>\n",
       "      <td>112223</td>\n",
       "      <td>13986.0</td>\n",
       "      <td>83.0</td>\n",
       "    </tr>\n",
       "  </tbody>\n",
       "</table>\n",
       "</div>"
      ],
      "text/plain": [
       "       ID Tag  Reputation  Answers  Username    Views  Upvotes\n",
       "0   52664   a      3942.0      2.0    155623   7855.0     42.0\n",
       "1  327662   a     26046.0     12.0     21781  55801.0   1175.0\n",
       "2  468453   c      1358.0      4.0     56177   8067.0     60.0\n",
       "3   96996   a       264.0      3.0    168793  27064.0      9.0\n",
       "4  131465   c      4271.0      4.0    112223  13986.0     83.0"
      ]
     },
     "execution_count": 1,
     "metadata": {},
     "output_type": "execute_result"
    }
   ],
   "source": [
    "import numpy as np\n",
    "import pandas as pd\n",
    "data=pd.read_csv(r'../input/predict-the-number-of-upvote/data.csv')\n",
    "data.head()"
   ]
  },
  {
   "cell_type": "markdown",
   "id": "818f0377",
   "metadata": {
    "papermill": {
     "duration": 0.046848,
     "end_time": "2022-04-04T02:57:49.578718",
     "exception": false,
     "start_time": "2022-04-04T02:57:49.531870",
     "status": "completed"
    },
    "tags": []
   },
   "source": [
    "#### Shape of train and test"
   ]
  },
  {
   "cell_type": "code",
   "execution_count": 2,
   "id": "8ec77c82",
   "metadata": {
    "execution": {
     "iopub.execute_input": "2022-04-04T02:57:49.664229Z",
     "iopub.status.busy": "2022-04-04T02:57:49.663635Z",
     "iopub.status.idle": "2022-04-04T02:57:49.668521Z",
     "shell.execute_reply": "2022-04-04T02:57:49.669080Z",
     "shell.execute_reply.started": "2022-04-04T02:45:10.274790Z"
    },
    "papermill": {
     "duration": 0.048671,
     "end_time": "2022-04-04T02:57:49.669231",
     "exception": false,
     "start_time": "2022-04-04T02:57:49.620560",
     "status": "completed"
    },
    "tags": []
   },
   "outputs": [
    {
     "name": "stdout",
     "output_type": "stream",
     "text": [
      "There are 330045 rows and 7 columns in train\n"
     ]
    }
   ],
   "source": [
    "print('There are {} rows and {} columns in train'.format(data.shape[0],data.shape[1]))"
   ]
  },
  {
   "cell_type": "markdown",
   "id": "ac50b0f9",
   "metadata": {
    "papermill": {
     "duration": 0.041306,
     "end_time": "2022-04-04T02:57:49.751820",
     "exception": false,
     "start_time": "2022-04-04T02:57:49.710514",
     "status": "completed"
    },
    "tags": []
   },
   "source": [
    "#### The column labels of the DataFrame."
   ]
  },
  {
   "cell_type": "code",
   "execution_count": 3,
   "id": "26d154b1",
   "metadata": {
    "execution": {
     "iopub.execute_input": "2022-04-04T02:57:49.839416Z",
     "iopub.status.busy": "2022-04-04T02:57:49.838790Z",
     "iopub.status.idle": "2022-04-04T02:57:49.843316Z",
     "shell.execute_reply": "2022-04-04T02:57:49.843793Z",
     "shell.execute_reply.started": "2022-04-04T02:45:10.282429Z"
    },
    "papermill": {
     "duration": 0.050288,
     "end_time": "2022-04-04T02:57:49.843940",
     "exception": false,
     "start_time": "2022-04-04T02:57:49.793652",
     "status": "completed"
    },
    "tags": []
   },
   "outputs": [
    {
     "data": {
      "text/plain": [
       "Index(['ID', 'Tag', 'Reputation', 'Answers', 'Username', 'Views', 'Upvotes'], dtype='object')"
      ]
     },
     "execution_count": 3,
     "metadata": {},
     "output_type": "execute_result"
    }
   ],
   "source": [
    "data.columns"
   ]
  },
  {
   "cell_type": "markdown",
   "id": "62c84733",
   "metadata": {
    "papermill": {
     "duration": 0.040877,
     "end_time": "2022-04-04T02:57:49.925813",
     "exception": false,
     "start_time": "2022-04-04T02:57:49.884936",
     "status": "completed"
    },
    "tags": []
   },
   "source": [
    "#### Return the dtypes in the DataFrame."
   ]
  },
  {
   "cell_type": "code",
   "execution_count": 4,
   "id": "76c6a8a1",
   "metadata": {
    "execution": {
     "iopub.execute_input": "2022-04-04T02:57:50.010698Z",
     "iopub.status.busy": "2022-04-04T02:57:50.010088Z",
     "iopub.status.idle": "2022-04-04T02:57:50.015642Z",
     "shell.execute_reply": "2022-04-04T02:57:50.016139Z",
     "shell.execute_reply.started": "2022-04-04T02:45:10.296352Z"
    },
    "papermill": {
     "duration": 0.050137,
     "end_time": "2022-04-04T02:57:50.016297",
     "exception": false,
     "start_time": "2022-04-04T02:57:49.966160",
     "status": "completed"
    },
    "tags": []
   },
   "outputs": [
    {
     "data": {
      "text/plain": [
       "ID              int64\n",
       "Tag            object\n",
       "Reputation    float64\n",
       "Answers       float64\n",
       "Username        int64\n",
       "Views         float64\n",
       "Upvotes       float64\n",
       "dtype: object"
      ]
     },
     "execution_count": 4,
     "metadata": {},
     "output_type": "execute_result"
    }
   ],
   "source": [
    "data.dtypes"
   ]
  },
  {
   "cell_type": "markdown",
   "id": "87ce2733",
   "metadata": {
    "papermill": {
     "duration": 0.04067,
     "end_time": "2022-04-04T02:57:50.097694",
     "exception": false,
     "start_time": "2022-04-04T02:57:50.057024",
     "status": "completed"
    },
    "tags": []
   },
   "source": [
    "#### Drop specified labels(ID) from rows or columns."
   ]
  },
  {
   "cell_type": "code",
   "execution_count": 5,
   "id": "663a49cf",
   "metadata": {
    "execution": {
     "iopub.execute_input": "2022-04-04T02:57:50.183456Z",
     "iopub.status.busy": "2022-04-04T02:57:50.182861Z",
     "iopub.status.idle": "2022-04-04T02:57:50.197995Z",
     "shell.execute_reply": "2022-04-04T02:57:50.198465Z",
     "shell.execute_reply.started": "2022-04-04T02:45:10.373228Z"
    },
    "papermill": {
     "duration": 0.059512,
     "end_time": "2022-04-04T02:57:50.198640",
     "exception": false,
     "start_time": "2022-04-04T02:57:50.139128",
     "status": "completed"
    },
    "tags": []
   },
   "outputs": [],
   "source": [
    "data.drop('ID', axis=1, inplace=True)"
   ]
  },
  {
   "cell_type": "markdown",
   "id": "94d7b6d1",
   "metadata": {
    "papermill": {
     "duration": 0.041682,
     "end_time": "2022-04-04T02:57:50.282384",
     "exception": false,
     "start_time": "2022-04-04T02:57:50.240702",
     "status": "completed"
    },
    "tags": []
   },
   "source": [
    "#### data splitting"
   ]
  },
  {
   "cell_type": "code",
   "execution_count": 6,
   "id": "8233dc75",
   "metadata": {
    "execution": {
     "iopub.execute_input": "2022-04-04T02:57:50.383644Z",
     "iopub.status.busy": "2022-04-04T02:57:50.382804Z",
     "iopub.status.idle": "2022-04-04T02:57:50.385217Z",
     "shell.execute_reply": "2022-04-04T02:57:50.384710Z",
     "shell.execute_reply.started": "2022-04-04T02:45:10.468889Z"
    },
    "papermill": {
     "duration": 0.060812,
     "end_time": "2022-04-04T02:57:50.385372",
     "exception": false,
     "start_time": "2022-04-04T02:57:50.324560",
     "status": "completed"
    },
    "tags": []
   },
   "outputs": [],
   "source": [
    "X = data[['Tag', 'Reputation', 'Answers', 'Username', 'Views']]\n",
    "y = data['Upvotes']"
   ]
  },
  {
   "cell_type": "markdown",
   "id": "81e2a917",
   "metadata": {
    "papermill": {
     "duration": 0.041585,
     "end_time": "2022-04-04T02:57:50.468693",
     "exception": false,
     "start_time": "2022-04-04T02:57:50.427108",
     "status": "completed"
    },
    "tags": []
   },
   "source": [
    "#### Generate descriptive statistics from data\n",
    "#### ‘all’ : All columns of the input will be included in the output."
   ]
  },
  {
   "cell_type": "code",
   "execution_count": 7,
   "id": "e3914fc7",
   "metadata": {
    "execution": {
     "iopub.execute_input": "2022-04-04T02:57:50.596256Z",
     "iopub.status.busy": "2022-04-04T02:57:50.595279Z",
     "iopub.status.idle": "2022-04-04T02:57:50.714369Z",
     "shell.execute_reply": "2022-04-04T02:57:50.714877Z",
     "shell.execute_reply.started": "2022-04-04T02:45:10.602376Z"
    },
    "papermill": {
     "duration": 0.204141,
     "end_time": "2022-04-04T02:57:50.715039",
     "exception": false,
     "start_time": "2022-04-04T02:57:50.510898",
     "status": "completed"
    },
    "tags": []
   },
   "outputs": [
    {
     "data": {
      "text/html": [
       "<div>\n",
       "<style scoped>\n",
       "    .dataframe tbody tr th:only-of-type {\n",
       "        vertical-align: middle;\n",
       "    }\n",
       "\n",
       "    .dataframe tbody tr th {\n",
       "        vertical-align: top;\n",
       "    }\n",
       "\n",
       "    .dataframe thead th {\n",
       "        text-align: right;\n",
       "    }\n",
       "</style>\n",
       "<table border=\"1\" class=\"dataframe\">\n",
       "  <thead>\n",
       "    <tr style=\"text-align: right;\">\n",
       "      <th></th>\n",
       "      <th>count</th>\n",
       "      <th>unique</th>\n",
       "      <th>top</th>\n",
       "      <th>freq</th>\n",
       "      <th>mean</th>\n",
       "      <th>std</th>\n",
       "      <th>min</th>\n",
       "      <th>25%</th>\n",
       "      <th>50%</th>\n",
       "      <th>75%</th>\n",
       "      <th>max</th>\n",
       "    </tr>\n",
       "  </thead>\n",
       "  <tbody>\n",
       "    <tr>\n",
       "      <th>Tag</th>\n",
       "      <td>330045</td>\n",
       "      <td>10</td>\n",
       "      <td>c</td>\n",
       "      <td>72458</td>\n",
       "      <td>NaN</td>\n",
       "      <td>NaN</td>\n",
       "      <td>NaN</td>\n",
       "      <td>NaN</td>\n",
       "      <td>NaN</td>\n",
       "      <td>NaN</td>\n",
       "      <td>NaN</td>\n",
       "    </tr>\n",
       "    <tr>\n",
       "      <th>Reputation</th>\n",
       "      <td>330045.0</td>\n",
       "      <td>NaN</td>\n",
       "      <td>NaN</td>\n",
       "      <td>NaN</td>\n",
       "      <td>7773.146798</td>\n",
       "      <td>27061.412587</td>\n",
       "      <td>0.0</td>\n",
       "      <td>282.0</td>\n",
       "      <td>1236.0</td>\n",
       "      <td>5118.0</td>\n",
       "      <td>1042428.0</td>\n",
       "    </tr>\n",
       "    <tr>\n",
       "      <th>Answers</th>\n",
       "      <td>330045.0</td>\n",
       "      <td>NaN</td>\n",
       "      <td>NaN</td>\n",
       "      <td>NaN</td>\n",
       "      <td>3.917672</td>\n",
       "      <td>3.579515</td>\n",
       "      <td>0.0</td>\n",
       "      <td>2.0</td>\n",
       "      <td>3.0</td>\n",
       "      <td>5.0</td>\n",
       "      <td>76.0</td>\n",
       "    </tr>\n",
       "    <tr>\n",
       "      <th>Username</th>\n",
       "      <td>330045.0</td>\n",
       "      <td>NaN</td>\n",
       "      <td>NaN</td>\n",
       "      <td>NaN</td>\n",
       "      <td>81442.888803</td>\n",
       "      <td>49215.10073</td>\n",
       "      <td>0.0</td>\n",
       "      <td>39808.0</td>\n",
       "      <td>79010.0</td>\n",
       "      <td>122559.0</td>\n",
       "      <td>175738.0</td>\n",
       "    </tr>\n",
       "    <tr>\n",
       "      <th>Views</th>\n",
       "      <td>330045.0</td>\n",
       "      <td>NaN</td>\n",
       "      <td>NaN</td>\n",
       "      <td>NaN</td>\n",
       "      <td>29645.071342</td>\n",
       "      <td>80956.456478</td>\n",
       "      <td>9.0</td>\n",
       "      <td>2594.0</td>\n",
       "      <td>8954.0</td>\n",
       "      <td>26870.0</td>\n",
       "      <td>5231058.0</td>\n",
       "    </tr>\n",
       "    <tr>\n",
       "      <th>Upvotes</th>\n",
       "      <td>330045.0</td>\n",
       "      <td>NaN</td>\n",
       "      <td>NaN</td>\n",
       "      <td>NaN</td>\n",
       "      <td>337.505358</td>\n",
       "      <td>3592.441135</td>\n",
       "      <td>0.0</td>\n",
       "      <td>8.0</td>\n",
       "      <td>28.0</td>\n",
       "      <td>107.0</td>\n",
       "      <td>615278.0</td>\n",
       "    </tr>\n",
       "  </tbody>\n",
       "</table>\n",
       "</div>"
      ],
      "text/plain": [
       "               count unique  top   freq          mean           std  min  \\\n",
       "Tag           330045     10    c  72458           NaN           NaN  NaN   \n",
       "Reputation  330045.0    NaN  NaN    NaN   7773.146798  27061.412587  0.0   \n",
       "Answers     330045.0    NaN  NaN    NaN      3.917672      3.579515  0.0   \n",
       "Username    330045.0    NaN  NaN    NaN  81442.888803   49215.10073  0.0   \n",
       "Views       330045.0    NaN  NaN    NaN  29645.071342  80956.456478  9.0   \n",
       "Upvotes     330045.0    NaN  NaN    NaN    337.505358   3592.441135  0.0   \n",
       "\n",
       "                25%      50%       75%        max  \n",
       "Tag             NaN      NaN       NaN        NaN  \n",
       "Reputation    282.0   1236.0    5118.0  1042428.0  \n",
       "Answers         2.0      3.0       5.0       76.0  \n",
       "Username    39808.0  79010.0  122559.0   175738.0  \n",
       "Views        2594.0   8954.0   26870.0  5231058.0  \n",
       "Upvotes         8.0     28.0     107.0   615278.0  "
      ]
     },
     "execution_count": 7,
     "metadata": {},
     "output_type": "execute_result"
    }
   ],
   "source": [
    "data.describe(include='all').T"
   ]
  },
  {
   "cell_type": "markdown",
   "id": "fcf8c86e",
   "metadata": {
    "papermill": {
     "duration": 0.041932,
     "end_time": "2022-04-04T02:57:50.799654",
     "exception": false,
     "start_time": "2022-04-04T02:57:50.757722",
     "status": "completed"
    },
    "tags": []
   },
   "source": [
    "##### Generate descriptive statistics from data \" To exclude object columns submit the data type numpy.object\"|"
   ]
  },
  {
   "cell_type": "code",
   "execution_count": 8,
   "id": "73cd8e84",
   "metadata": {
    "execution": {
     "iopub.execute_input": "2022-04-04T02:57:50.889648Z",
     "iopub.status.busy": "2022-04-04T02:57:50.889006Z",
     "iopub.status.idle": "2022-04-04T02:57:50.972808Z",
     "shell.execute_reply": "2022-04-04T02:57:50.973259Z",
     "shell.execute_reply.started": "2022-04-04T02:45:10.765254Z"
    },
    "papermill": {
     "duration": 0.131318,
     "end_time": "2022-04-04T02:57:50.973426",
     "exception": false,
     "start_time": "2022-04-04T02:57:50.842108",
     "status": "completed"
    },
    "tags": []
   },
   "outputs": [
    {
     "data": {
      "text/html": [
       "<div>\n",
       "<style scoped>\n",
       "    .dataframe tbody tr th:only-of-type {\n",
       "        vertical-align: middle;\n",
       "    }\n",
       "\n",
       "    .dataframe tbody tr th {\n",
       "        vertical-align: top;\n",
       "    }\n",
       "\n",
       "    .dataframe thead th {\n",
       "        text-align: right;\n",
       "    }\n",
       "</style>\n",
       "<table border=\"1\" class=\"dataframe\">\n",
       "  <thead>\n",
       "    <tr style=\"text-align: right;\">\n",
       "      <th></th>\n",
       "      <th>count</th>\n",
       "      <th>unique</th>\n",
       "      <th>top</th>\n",
       "      <th>freq</th>\n",
       "    </tr>\n",
       "  </thead>\n",
       "  <tbody>\n",
       "    <tr>\n",
       "      <th>Tag</th>\n",
       "      <td>330045</td>\n",
       "      <td>10</td>\n",
       "      <td>c</td>\n",
       "      <td>72458</td>\n",
       "    </tr>\n",
       "  </tbody>\n",
       "</table>\n",
       "</div>"
      ],
      "text/plain": [
       "      count unique top   freq\n",
       "Tag  330045     10   c  72458"
      ]
     },
     "execution_count": 8,
     "metadata": {},
     "output_type": "execute_result"
    }
   ],
   "source": [
    "data.describe(exclude='number').T"
   ]
  },
  {
   "cell_type": "markdown",
   "id": "ac783984",
   "metadata": {
    "papermill": {
     "duration": 0.042155,
     "end_time": "2022-04-04T02:57:51.058740",
     "exception": false,
     "start_time": "2022-04-04T02:57:51.016585",
     "status": "completed"
    },
    "tags": []
   },
   "source": [
    "#### This method prints information about a DataFrame including the index dtype and columns, non-null values and memory usage."
   ]
  },
  {
   "cell_type": "code",
   "execution_count": 9,
   "id": "5eb3ff4f",
   "metadata": {
    "execution": {
     "iopub.execute_input": "2022-04-04T02:57:51.181918Z",
     "iopub.status.busy": "2022-04-04T02:57:51.181288Z",
     "iopub.status.idle": "2022-04-04T02:57:51.198270Z",
     "shell.execute_reply": "2022-04-04T02:57:51.198953Z",
     "shell.execute_reply.started": "2022-04-04T02:45:10.859476Z"
    },
    "papermill": {
     "duration": 0.097525,
     "end_time": "2022-04-04T02:57:51.199172",
     "exception": false,
     "start_time": "2022-04-04T02:57:51.101647",
     "status": "completed"
    },
    "tags": []
   },
   "outputs": [
    {
     "name": "stdout",
     "output_type": "stream",
     "text": [
      "<class 'pandas.core.frame.DataFrame'>\n",
      "RangeIndex: 330045 entries, 0 to 330044\n",
      "Data columns (total 6 columns):\n",
      " #   Column      Non-Null Count   Dtype  \n",
      "---  ------      --------------   -----  \n",
      " 0   Tag         330045 non-null  object \n",
      " 1   Reputation  330045 non-null  float64\n",
      " 2   Answers     330045 non-null  float64\n",
      " 3   Username    330045 non-null  int64  \n",
      " 4   Views       330045 non-null  float64\n",
      " 5   Upvotes     330045 non-null  float64\n",
      "dtypes: float64(4), int64(1), object(1)\n",
      "memory usage: 15.1+ MB\n"
     ]
    }
   ],
   "source": [
    "data.info()"
   ]
  },
  {
   "cell_type": "markdown",
   "id": "98ee5342",
   "metadata": {
    "papermill": {
     "duration": 0.042774,
     "end_time": "2022-04-04T02:57:51.285727",
     "exception": false,
     "start_time": "2022-04-04T02:57:51.242953",
     "status": "completed"
    },
    "tags": []
   },
   "source": [
    "#### Count number of distinct elements in specified axis."
   ]
  },
  {
   "cell_type": "code",
   "execution_count": 10,
   "id": "802440d7",
   "metadata": {
    "execution": {
     "iopub.execute_input": "2022-04-04T02:57:51.381813Z",
     "iopub.status.busy": "2022-04-04T02:57:51.380897Z",
     "iopub.status.idle": "2022-04-04T02:57:51.435494Z",
     "shell.execute_reply": "2022-04-04T02:57:51.435961Z",
     "shell.execute_reply.started": "2022-04-04T02:45:10.921555Z"
    },
    "papermill": {
     "duration": 0.10725,
     "end_time": "2022-04-04T02:57:51.436126",
     "exception": false,
     "start_time": "2022-04-04T02:57:51.328876",
     "status": "completed"
    },
    "tags": []
   },
   "outputs": [
    {
     "data": {
      "text/plain": [
       "Tag               10\n",
       "Reputation     16527\n",
       "Answers           63\n",
       "Username      141802\n",
       "Views          82137\n",
       "Upvotes         7239\n",
       "dtype: int64"
      ]
     },
     "execution_count": 10,
     "metadata": {},
     "output_type": "execute_result"
    }
   ],
   "source": [
    "data.nunique()"
   ]
  },
  {
   "cell_type": "markdown",
   "id": "f04d874c",
   "metadata": {
    "papermill": {
     "duration": 0.043437,
     "end_time": "2022-04-04T02:57:51.523182",
     "exception": false,
     "start_time": "2022-04-04T02:57:51.479745",
     "status": "completed"
    },
    "tags": []
   },
   "source": [
    "#### I get a list of the null count for each column"
   ]
  },
  {
   "cell_type": "code",
   "execution_count": 11,
   "id": "154d31c7",
   "metadata": {
    "execution": {
     "iopub.execute_input": "2022-04-04T02:57:51.648194Z",
     "iopub.status.busy": "2022-04-04T02:57:51.647549Z",
     "iopub.status.idle": "2022-04-04T02:57:51.657334Z",
     "shell.execute_reply": "2022-04-04T02:57:51.656731Z",
     "shell.execute_reply.started": "2022-04-04T02:45:11.030243Z"
    },
    "papermill": {
     "duration": 0.09102,
     "end_time": "2022-04-04T02:57:51.657470",
     "exception": false,
     "start_time": "2022-04-04T02:57:51.566450",
     "status": "completed"
    },
    "tags": []
   },
   "outputs": [
    {
     "data": {
      "text/plain": [
       "Tag           0\n",
       "Reputation    0\n",
       "Answers       0\n",
       "Username      0\n",
       "Views         0\n",
       "Upvotes       0\n",
       "dtype: int64"
      ]
     },
     "execution_count": 11,
     "metadata": {},
     "output_type": "execute_result"
    }
   ],
   "source": [
    "data.isnull().sum()"
   ]
  },
  {
   "cell_type": "markdown",
   "id": "8c50f890",
   "metadata": {
    "papermill": {
     "duration": 0.044584,
     "end_time": "2022-04-04T02:57:51.746366",
     "exception": false,
     "start_time": "2022-04-04T02:57:51.701782",
     "status": "completed"
    },
    "tags": []
   },
   "source": [
    "#### Identify categorical columns \n"
   ]
  },
  {
   "cell_type": "code",
   "execution_count": 12,
   "id": "0babf097",
   "metadata": {
    "execution": {
     "iopub.execute_input": "2022-04-04T02:57:51.841362Z",
     "iopub.status.busy": "2022-04-04T02:57:51.840700Z",
     "iopub.status.idle": "2022-04-04T02:57:51.846375Z",
     "shell.execute_reply": "2022-04-04T02:57:51.846851Z",
     "shell.execute_reply.started": "2022-04-04T02:45:11.172174Z"
    },
    "papermill": {
     "duration": 0.055656,
     "end_time": "2022-04-04T02:57:51.846998",
     "exception": false,
     "start_time": "2022-04-04T02:57:51.791342",
     "status": "completed"
    },
    "tags": []
   },
   "outputs": [
    {
     "data": {
      "text/plain": [
       "['Tag']"
      ]
     },
     "execution_count": 12,
     "metadata": {},
     "output_type": "execute_result"
    }
   ],
   "source": [
    "df_cat=data.select_dtypes(include='object')\n",
    "list(df_cat.columns)"
   ]
  },
  {
   "cell_type": "markdown",
   "id": "3d4aeb74",
   "metadata": {
    "papermill": {
     "duration": 0.043362,
     "end_time": "2022-04-04T02:57:51.934422",
     "exception": false,
     "start_time": "2022-04-04T02:57:51.891060",
     "status": "completed"
    },
    "tags": []
   },
   "source": [
    "##### Identify numerical columns\n"
   ]
  },
  {
   "cell_type": "code",
   "execution_count": 13,
   "id": "73e98020",
   "metadata": {
    "execution": {
     "iopub.execute_input": "2022-04-04T02:57:52.027762Z",
     "iopub.status.busy": "2022-04-04T02:57:52.026780Z",
     "iopub.status.idle": "2022-04-04T02:57:52.041303Z",
     "shell.execute_reply": "2022-04-04T02:57:52.041798Z",
     "shell.execute_reply.started": "2022-04-04T02:45:11.291495Z"
    },
    "papermill": {
     "duration": 0.063498,
     "end_time": "2022-04-04T02:57:52.042132",
     "exception": false,
     "start_time": "2022-04-04T02:57:51.978634",
     "status": "completed"
    },
    "tags": []
   },
   "outputs": [
    {
     "data": {
      "text/plain": [
       "['Reputation', 'Answers', 'Username', 'Views', 'Upvotes']"
      ]
     },
     "execution_count": 13,
     "metadata": {},
     "output_type": "execute_result"
    }
   ],
   "source": [
    "df_num=data.select_dtypes(include=['int64','float64'])\n",
    "list(df_num.columns)"
   ]
  },
  {
   "cell_type": "markdown",
   "id": "22db477d",
   "metadata": {
    "papermill": {
     "duration": 0.044243,
     "end_time": "2022-04-04T02:57:52.130845",
     "exception": false,
     "start_time": "2022-04-04T02:57:52.086602",
     "status": "completed"
    },
    "tags": []
   },
   "source": [
    "### Step 1 : EDA (Exploratory Data Analysis)"
   ]
  },
  {
   "cell_type": "code",
   "execution_count": 14,
   "id": "03ff4aa4",
   "metadata": {
    "execution": {
     "iopub.execute_input": "2022-04-04T02:57:52.225274Z",
     "iopub.status.busy": "2022-04-04T02:57:52.224671Z",
     "iopub.status.idle": "2022-04-04T02:57:53.024544Z",
     "shell.execute_reply": "2022-04-04T02:57:53.024023Z",
     "shell.execute_reply.started": "2022-04-04T02:45:11.384300Z"
    },
    "papermill": {
     "duration": 0.84886,
     "end_time": "2022-04-04T02:57:53.024694",
     "exception": false,
     "start_time": "2022-04-04T02:57:52.175834",
     "status": "completed"
    },
    "tags": []
   },
   "outputs": [
    {
     "data": {
      "text/plain": [
       "array([[<AxesSubplot:title={'center':'Reputation'}>,\n",
       "        <AxesSubplot:title={'center':'Answers'}>],\n",
       "       [<AxesSubplot:title={'center':'Username'}>,\n",
       "        <AxesSubplot:title={'center':'Views'}>],\n",
       "       [<AxesSubplot:title={'center':'Upvotes'}>, <AxesSubplot:>]],\n",
       "      dtype=object)"
      ]
     },
     "execution_count": 14,
     "metadata": {},
     "output_type": "execute_result"
    },
    {
     "data": {
      "image/png": "[encoded data removed]",
      "text/plain": [
       "<Figure size 432x288 with 6 Axes>"
      ]
     },
     "metadata": {
      "needs_background": "light"
     },
     "output_type": "display_data"
    }
   ],
   "source": [
    "data.hist()"
   ]
  },
  {
   "cell_type": "markdown",
   "id": "e9c6eb73",
   "metadata": {
    "papermill": {
     "duration": 0.045882,
     "end_time": "2022-04-04T02:57:53.116734",
     "exception": false,
     "start_time": "2022-04-04T02:57:53.070852",
     "status": "completed"
    },
    "tags": []
   },
   "source": [
    "#### Variance selector caveats"
   ]
  },
  {
   "cell_type": "code",
   "execution_count": 15,
   "id": "44f99851",
   "metadata": {
    "execution": {
     "iopub.execute_input": "2022-04-04T02:57:53.232283Z",
     "iopub.status.busy": "2022-04-04T02:57:53.218575Z",
     "iopub.status.idle": "2022-04-04T02:57:56.618858Z",
     "shell.execute_reply": "2022-04-04T02:57:56.619422Z",
     "shell.execute_reply.started": "2022-04-04T02:45:12.207627Z"
    },
    "papermill": {
     "duration": 3.456569,
     "end_time": "2022-04-04T02:57:56.619616",
     "exception": false,
     "start_time": "2022-04-04T02:57:53.163047",
     "status": "completed"
    },
    "tags": []
   },
   "outputs": [
    {
     "data": {
      "text/plain": [
       "<AxesSubplot:>"
      ]
     },
     "execution_count": 15,
     "metadata": {},
     "output_type": "execute_result"
    },
    {
     "data": {
      "image/png": "[encoded data removed]",
      "text/plain": [
       "<Figure size 432x288 with 1 Axes>"
      ]
     },
     "metadata": {
      "needs_background": "light"
     },
     "output_type": "display_data"
    }
   ],
   "source": [
    "data.boxplot()"
   ]
  },
  {
   "cell_type": "markdown",
   "id": "68f7324f",
   "metadata": {
    "papermill": {
     "duration": 0.048867,
     "end_time": "2022-04-04T02:57:56.716789",
     "exception": false,
     "start_time": "2022-04-04T02:57:56.667922",
     "status": "completed"
    },
    "tags": []
   },
   "source": [
    "#### Explore categorical variables - Tag"
   ]
  },
  {
   "cell_type": "code",
   "execution_count": 16,
   "id": "142846d5",
   "metadata": {
    "execution": {
     "iopub.execute_input": "2022-04-04T02:57:56.874612Z",
     "iopub.status.busy": "2022-04-04T02:57:56.835439Z",
     "iopub.status.idle": "2022-04-04T02:57:57.369846Z",
     "shell.execute_reply": "2022-04-04T02:57:57.370348Z",
     "shell.execute_reply.started": "2022-04-04T02:45:15.624134Z"
    },
    "papermill": {
     "duration": 0.605487,
     "end_time": "2022-04-04T02:57:57.370534",
     "exception": false,
     "start_time": "2022-04-04T02:57:56.765047",
     "status": "completed"
    },
    "tags": []
   },
   "outputs": [
    {
     "data": {
      "image/png": "[encoded data removed]",
      "text/plain": [
       "<Figure size 864x360 with 2 Axes>"
      ]
     },
     "metadata": {
      "needs_background": "light"
     },
     "output_type": "display_data"
    }
   ],
   "source": [
    "\n",
    "import matplotlib.pyplot as plt\n",
    "count = 1\n",
    "for cols in df_cat:\n",
    "    plt.subplot(1, 2, count)\n",
    "    data[cols].value_counts().plot.pie(shadow=True,autopct='%1.1f%%',radius=1.1,textprops={'fontsize': 12} )\n",
    "    count +=1\n",
    "    plt.subplot(1, 2, count)\n",
    "    plt.tight_layout()\n",
    "    plt.style.use('seaborn-bright')\n",
    "    data[cols].value_counts().plot.bar()\n",
    "    fig=plt.gcf()\n",
    "    fig.set_size_inches(12,5)\n",
    "    plt.title('{0}'.format(cols))\n",
    "    plt.xticks(fontsize=14)\n",
    "    plt.yticks(fontsize=12)\n",
    "    plt.xticks(rotation=30)\n",
    "    count+=1"
   ]
  },
  {
   "cell_type": "markdown",
   "id": "fd88ab9d",
   "metadata": {
    "papermill": {
     "duration": 0.051615,
     "end_time": "2022-04-04T02:57:57.471497",
     "exception": false,
     "start_time": "2022-04-04T02:57:57.419882",
     "status": "completed"
    },
    "tags": []
   },
   "source": [
    "#### Lets visualize above details in boxen plot\n",
    "#### Numerical Data ['Reputation', 'Answers', 'Username', 'Views', 'Upvotes'] Vs Tag (i.e. categorical variable ) in ascending order of median "
   ]
  },
  {
   "cell_type": "code",
   "execution_count": 17,
   "id": "749b678b",
   "metadata": {
    "execution": {
     "iopub.execute_input": "2022-04-04T02:57:57.572222Z",
     "iopub.status.busy": "2022-04-04T02:57:57.571612Z",
     "iopub.status.idle": "2022-04-04T02:58:01.924192Z",
     "shell.execute_reply": "2022-04-04T02:58:01.924658Z",
     "shell.execute_reply.started": "2022-04-04T02:45:16.171124Z"
    },
    "papermill": {
     "duration": 4.404692,
     "end_time": "2022-04-04T02:58:01.924808",
     "exception": false,
     "start_time": "2022-04-04T02:57:57.520116",
     "status": "completed"
    },
    "tags": []
   },
   "outputs": [
    {
     "data": {
      "image/png": "[encoded data removed]",
      "text/plain": [
       "<Figure size 1080x1080 with 5 Axes>"
      ]
     },
     "metadata": {
      "needs_background": "light"
     },
     "output_type": "display_data"
    }
   ],
   "source": [
    "import seaborn as sns\n",
    "#Lets visualize above details in boxen plot\n",
    "#Numerical Data ['Reputation', 'Answers', 'Username', 'Views', 'Upvotes'] Vs Tag (i.e. categorical variable ) in ascending order of median \n",
    "plt.figure(figsize=(15, 15))\n",
    "count = 1\n",
    "for cols in df_num:\n",
    "    sns.set(style='darkgrid', palette=\"Set1\", font_scale=1.1, rc={\"figure.figsize\": [12, 12]})\n",
    "    plt.subplot(3, 2, count)\n",
    "    plt.tight_layout()\n",
    "    sorted_nb = data.groupby(['Tag'])[cols].median().sort_values()\n",
    "    sns.boxenplot(x=data['Tag'], y=data[cols], order=list(sorted_nb.index))\n",
    "    plt.xticks(rotation=30)\n",
    "    plt.xticks(fontsize=10)\n",
    "    plt.yticks(fontsize=9)\n",
    "    \n",
    "    count+=1"
   ]
  },
  {
   "cell_type": "markdown",
   "id": "b5306d77",
   "metadata": {
    "papermill": {
     "duration": 0.054787,
     "end_time": "2022-04-04T02:58:02.031400",
     "exception": false,
     "start_time": "2022-04-04T02:58:01.976613",
     "status": "completed"
    },
    "tags": []
   },
   "source": [
    "#### Lets do a correlation plot for entire dataframe\n"
   ]
  },
  {
   "cell_type": "code",
   "execution_count": 18,
   "id": "2e2b8321",
   "metadata": {
    "execution": {
     "iopub.execute_input": "2022-04-04T02:58:02.142974Z",
     "iopub.status.busy": "2022-04-04T02:58:02.142253Z",
     "iopub.status.idle": "2022-04-04T02:58:02.496496Z",
     "shell.execute_reply": "2022-04-04T02:58:02.496979Z",
     "shell.execute_reply.started": "2022-04-04T02:45:20.556104Z"
    },
    "papermill": {
     "duration": 0.412028,
     "end_time": "2022-04-04T02:58:02.497159",
     "exception": false,
     "start_time": "2022-04-04T02:58:02.085131",
     "status": "completed"
    },
    "tags": []
   },
   "outputs": [
    {
     "data": {
      "image/png": "[encoded data removed]",
      "text/plain": [
       "<Figure size 648x576 with 2 Axes>"
      ]
     },
     "metadata": {},
     "output_type": "display_data"
    }
   ],
   "source": [
    "sns.heatmap(data.corr(),annot=True,cmap='RdYlGn',linewidths=0.2,annot_kws={'size':14})\n",
    "fig=plt.gcf()\n",
    "fig.set_size_inches(9,8)\n",
    "plt.xticks(fontsize=10)\n",
    "plt.yticks(fontsize=10)\n",
    "plt.show()"
   ]
  },
  {
   "cell_type": "markdown",
   "id": "dcdfe896",
   "metadata": {
    "papermill": {
     "duration": 0.053432,
     "end_time": "2022-04-04T02:58:02.604728",
     "exception": false,
     "start_time": "2022-04-04T02:58:02.551296",
     "status": "completed"
    },
    "tags": []
   },
   "source": [
    "#### Transform categorical variable Tag to numbers"
   ]
  },
  {
   "cell_type": "code",
   "execution_count": 19,
   "id": "32a240f2",
   "metadata": {
    "execution": {
     "iopub.execute_input": "2022-04-04T02:58:02.717081Z",
     "iopub.status.busy": "2022-04-04T02:58:02.716219Z",
     "iopub.status.idle": "2022-04-04T02:58:02.921212Z",
     "shell.execute_reply": "2022-04-04T02:58:02.921754Z",
     "shell.execute_reply.started": "2022-04-04T02:45:20.873325Z"
    },
    "papermill": {
     "duration": 0.26335,
     "end_time": "2022-04-04T02:58:02.921923",
     "exception": false,
     "start_time": "2022-04-04T02:58:02.658573",
     "status": "completed"
    },
    "tags": []
   },
   "outputs": [
    {
     "name": "stderr",
     "output_type": "stream",
     "text": [
      "/opt/conda/lib/python3.7/site-packages/ipykernel_launcher.py:5: SettingWithCopyWarning: \n",
      "A value is trying to be set on a copy of a slice from a DataFrame.\n",
      "Try using .loc[row_indexer,col_indexer] = value instead\n",
      "\n",
      "See the caveats in the documentation: https://pandas.pydata.org/pandas-docs/stable/user_guide/indexing.html#returning-a-view-versus-a-copy\n",
      "  \"\"\"\n",
      "/opt/conda/lib/python3.7/site-packages/ipykernel_launcher.py:7: SettingWithCopyWarning: \n",
      "A value is trying to be set on a copy of a slice from a DataFrame.\n",
      "Try using .loc[row_indexer,col_indexer] = value instead\n",
      "\n",
      "See the caveats in the documentation: https://pandas.pydata.org/pandas-docs/stable/user_guide/indexing.html#returning-a-view-versus-a-copy\n",
      "  import sys\n"
     ]
    }
   ],
   "source": [
    "#Tag -\n",
    "Tag_dict = {'a':0, 'c':1,'h':2,'i':3,'j':4,'o':5,'p':6,'r':7,'s':8,'x':9}\n",
    "\n",
    "# Transform categorical variable Tag to numbers\n",
    "X[\"Tag\"] = X[\"Tag\"].apply(lambda x: Tag_dict[x])\n",
    "#Convert 'Tag' to object\n",
    "X['Tag']  = X['Tag'].astype('int64')"
   ]
  },
  {
   "cell_type": "markdown",
   "id": "17624f8c",
   "metadata": {
    "papermill": {
     "duration": 0.054154,
     "end_time": "2022-04-04T02:58:03.030549",
     "exception": false,
     "start_time": "2022-04-04T02:58:02.976395",
     "status": "completed"
    },
    "tags": []
   },
   "source": [
    "# Shape of X"
   ]
  },
  {
   "cell_type": "code",
   "execution_count": 20,
   "id": "b41c8152",
   "metadata": {
    "execution": {
     "iopub.execute_input": "2022-04-04T02:58:03.144053Z",
     "iopub.status.busy": "2022-04-04T02:58:03.143105Z",
     "iopub.status.idle": "2022-04-04T02:58:03.149763Z",
     "shell.execute_reply": "2022-04-04T02:58:03.148741Z",
     "shell.execute_reply.started": "2022-04-04T02:45:21.081173Z"
    },
    "papermill": {
     "duration": 0.064351,
     "end_time": "2022-04-04T02:58:03.149976",
     "exception": false,
     "start_time": "2022-04-04T02:58:03.085625",
     "status": "completed"
    },
    "tags": []
   },
   "outputs": [
    {
     "name": "stdout",
     "output_type": "stream",
     "text": [
      "There are 330045 rows and 6 columns in X\n"
     ]
    }
   ],
   "source": [
    "\n",
    "print('There are {} rows and {} columns in X'.format(data.shape[0],data.shape[1]))"
   ]
  },
  {
   "cell_type": "markdown",
   "id": "329b2781",
   "metadata": {
    "papermill": {
     "duration": 0.054254,
     "end_time": "2022-04-04T02:58:03.259997",
     "exception": false,
     "start_time": "2022-04-04T02:58:03.205743",
     "status": "completed"
    },
    "tags": []
   },
   "source": [
    "## Model building starts"
   ]
  },
  {
   "cell_type": "code",
   "execution_count": 21,
   "id": "6f1b1900",
   "metadata": {
    "execution": {
     "iopub.execute_input": "2022-04-04T02:58:03.373038Z",
     "iopub.status.busy": "2022-04-04T02:58:03.372438Z",
     "iopub.status.idle": "2022-04-04T02:58:03.566758Z",
     "shell.execute_reply": "2022-04-04T02:58:03.566129Z",
     "shell.execute_reply.started": "2022-04-04T02:45:21.088461Z"
    },
    "papermill": {
     "duration": 0.252376,
     "end_time": "2022-04-04T02:58:03.566889",
     "exception": false,
     "start_time": "2022-04-04T02:58:03.314513",
     "status": "completed"
    },
    "tags": []
   },
   "outputs": [],
   "source": [
    "from sklearn.model_selection import train_test_split\n",
    "X_train,X_test,y_train,y_test=train_test_split(X,y,test_size=0.2,random_state=40)"
   ]
  },
  {
   "cell_type": "markdown",
   "id": "e199201e",
   "metadata": {
    "papermill": {
     "duration": 0.053526,
     "end_time": "2022-04-04T02:58:03.675293",
     "exception": false,
     "start_time": "2022-04-04T02:58:03.621767",
     "status": "completed"
    },
    "tags": []
   },
   "source": [
    "##### After several permutaion and combination, I decided to use xgbregressor to predict which gave nest results"
   ]
  },
  {
   "cell_type": "code",
   "execution_count": 22,
   "id": "fd5bc092",
   "metadata": {
    "execution": {
     "iopub.execute_input": "2022-04-04T02:58:03.786982Z",
     "iopub.status.busy": "2022-04-04T02:58:03.786390Z",
     "iopub.status.idle": "2022-04-04T02:59:28.945942Z",
     "shell.execute_reply": "2022-04-04T02:59:28.946446Z",
     "shell.execute_reply.started": "2022-04-04T02:45:21.289301Z"
    },
    "papermill": {
     "duration": 85.216533,
     "end_time": "2022-04-04T02:59:28.946651",
     "exception": false,
     "start_time": "2022-04-04T02:58:03.730118",
     "status": "completed"
    },
    "tags": []
   },
   "outputs": [
    {
     "name": "stdout",
     "output_type": "stream",
     "text": [
      "the score is 0.9725524705304578\n",
      "the score is 0.845305140683408\n"
     ]
    }
   ],
   "source": [
    "#Import Libraries\n",
    "from sklearn.ensemble import RandomForestRegressor\n",
    "#Applying RandomForestRegressor Model \n",
    "RandomForestRegressor_model=RandomForestRegressor(n_estimators=100,max_depth=12,min_samples_split=4,random_state=33)\n",
    "RandomForestRegressor_model.fit(X_train,y_train)\n",
    "#Calculating Prediction\n",
    "y_pred_rfr = RandomForestRegressor_model.predict(X_test)\n",
    "#Calculating Score for train and test\n",
    "print('the score is {}'.format(RandomForestRegressor_model.score(X_train, y_train)))\n",
    "#Calculating Score for train and test\n",
    "print('the score is {}'.format(RandomForestRegressor_model.score(X_test, y_test)))"
   ]
  },
  {
   "cell_type": "markdown",
   "id": "6fb506dd",
   "metadata": {
    "papermill": {
     "duration": 0.055445,
     "end_time": "2022-04-04T02:59:29.058071",
     "exception": false,
     "start_time": "2022-04-04T02:59:29.002626",
     "status": "completed"
    },
    "tags": []
   },
   "source": [
    "### Calculating Median Squared Error\n"
   ]
  },
  {
   "cell_type": "code",
   "execution_count": 23,
   "id": "f425b146",
   "metadata": {
    "execution": {
     "iopub.execute_input": "2022-04-04T02:59:29.172538Z",
     "iopub.status.busy": "2022-04-04T02:59:29.171914Z",
     "iopub.status.idle": "2022-04-04T02:59:29.179881Z",
     "shell.execute_reply": "2022-04-04T02:59:29.179381Z",
     "shell.execute_reply.started": "2022-04-04T02:54:44.998236Z"
    },
    "papermill": {
     "duration": 0.066009,
     "end_time": "2022-04-04T02:59:29.180005",
     "exception": false,
     "start_time": "2022-04-04T02:59:29.113996",
     "status": "completed"
    },
    "tags": []
   },
   "outputs": [
    {
     "name": "stdout",
     "output_type": "stream",
     "text": [
      "Median Squared Error Value is :  14.043941674009996\n"
     ]
    }
   ],
   "source": [
    "\n",
    "from sklearn.metrics import median_absolute_error\n",
    "MdSEValue = median_absolute_error(y_test, y_pred_rfr)\n",
    "print('Median Squared Error Value is : ', MdSEValue )\n"
   ]
  },
  {
   "cell_type": "markdown",
   "id": "37a099e6",
   "metadata": {
    "papermill": {
     "duration": 0.054657,
     "end_time": "2022-04-04T02:59:29.289680",
     "exception": false,
     "start_time": "2022-04-04T02:59:29.235023",
     "status": "completed"
    },
    "tags": []
   },
   "source": []
  },
  {
   "cell_type": "markdown",
   "id": "c8bbc149",
   "metadata": {
    "papermill": {
     "duration": 0.055784,
     "end_time": "2022-04-04T02:59:29.401685",
     "exception": false,
     "start_time": "2022-04-04T02:59:29.345901",
     "status": "completed"
    },
    "tags": []
   },
   "source": [
    "### Calculating Mean Squared Error\n"
   ]
  },
  {
   "cell_type": "code",
   "execution_count": 24,
   "id": "2f167aa3",
   "metadata": {
    "execution": {
     "iopub.execute_input": "2022-04-04T02:59:29.518456Z",
     "iopub.status.busy": "2022-04-04T02:59:29.517768Z",
     "iopub.status.idle": "2022-04-04T02:59:29.523343Z",
     "shell.execute_reply": "2022-04-04T02:59:29.523797Z",
     "shell.execute_reply.started": "2022-04-04T02:55:00.987394Z"
    },
    "papermill": {
     "duration": 0.065887,
     "end_time": "2022-04-04T02:59:29.523946",
     "exception": false,
     "start_time": "2022-04-04T02:59:29.458059",
     "status": "completed"
    },
    "tags": []
   },
   "outputs": [
    {
     "name": "stdout",
     "output_type": "stream",
     "text": [
      "Mean Squared Error Value is :  1754186.9573777826\n"
     ]
    }
   ],
   "source": [
    "from sklearn.metrics import mean_squared_error \n",
    "MSEValue = mean_squared_error(y_test, y_pred_rfr, multioutput='uniform_average') # it can be raw_values\n",
    "print('Mean Squared Error Value is : ', MSEValue)"
   ]
  },
  {
   "cell_type": "markdown",
   "id": "279ed8f6",
   "metadata": {
    "papermill": {
     "duration": 0.055959,
     "end_time": "2022-04-04T02:59:29.636626",
     "exception": false,
     "start_time": "2022-04-04T02:59:29.580667",
     "status": "completed"
    },
    "tags": []
   },
   "source": []
  },
  {
   "cell_type": "markdown",
   "id": "60d7e978",
   "metadata": {
    "papermill": {
     "duration": 0.055413,
     "end_time": "2022-04-04T02:59:29.748764",
     "exception": false,
     "start_time": "2022-04-04T02:59:29.693351",
     "status": "completed"
    },
    "tags": []
   },
   "source": [
    "### Calculating Mean Absolute Error\n"
   ]
  },
  {
   "cell_type": "code",
   "execution_count": 25,
   "id": "4a884892",
   "metadata": {
    "execution": {
     "iopub.execute_input": "2022-04-04T02:59:29.862644Z",
     "iopub.status.busy": "2022-04-04T02:59:29.861992Z",
     "iopub.status.idle": "2022-04-04T02:59:29.868323Z",
     "shell.execute_reply": "2022-04-04T02:59:29.868777Z",
     "shell.execute_reply.started": "2022-04-04T02:55:10.010120Z"
    },
    "papermill": {
     "duration": 0.064931,
     "end_time": "2022-04-04T02:59:29.868924",
     "exception": false,
     "start_time": "2022-04-04T02:59:29.803993",
     "status": "completed"
    },
    "tags": []
   },
   "outputs": [
    {
     "name": "stdout",
     "output_type": "stream",
     "text": [
      "Mean Absolute Error Value is :  107.50914693152993\n"
     ]
    }
   ],
   "source": [
    "from sklearn.metrics import mean_absolute_error\n",
    "MAEValue = mean_absolute_error(y_test, y_pred_rfr, multioutput='uniform_average') # it can be raw_values\n",
    "print('Mean Absolute Error Value is : ', MAEValue)"
   ]
  },
  {
   "cell_type": "code",
   "execution_count": null,
   "id": "c95de3f7",
   "metadata": {
    "papermill": {
     "duration": 0.056913,
     "end_time": "2022-04-04T02:59:29.981499",
     "exception": false,
     "start_time": "2022-04-04T02:59:29.924586",
     "status": "completed"
    },
    "tags": []
   },
   "outputs": [],
   "source": []
  }
 ],
 "metadata": {
  "kernelspec": {
   "display_name": "Python 3",
   "language": "python",
   "name": "python3"
  },
  "language_info": {
   "codemirror_mode": {
    "name": "ipython",
    "version": 3
   },
   "file_extension": ".py",
   "mimetype": "text/x-python",
   "name": "python",
   "nbconvert_exporter": "python",
   "pygments_lexer": "ipython3",
   "version": "3.7.12"
  },
  "papermill": {
   "default_parameters": {},
   "duration": 111.004668,
   "end_time": "2022-04-04T02:59:30.748749",
   "environment_variables": {},
   "exception": null,
   "input_path": "__notebook__.ipynb",
   "output_path": "__notebook__.ipynb",
   "parameters": {},
   "start_time": "2022-04-04T02:57:39.744081",
   "version": "2.3.3"
  }
 },
 "nbformat": 4,
 "nbformat_minor": 5
}
